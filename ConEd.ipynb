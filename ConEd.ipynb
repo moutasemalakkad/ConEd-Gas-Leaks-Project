{
 "cells": [
  {
   "cell_type": "code",
   "execution_count": 1,
   "metadata": {},
   "outputs": [],
   "source": [
    "#Import Pandas\n",
    "import pandas as pd"
   ]
  },
  {
   "cell_type": "code",
   "execution_count": 2,
   "metadata": {},
   "outputs": [],
   "source": [
    "#Read CSV\n",
    "df = pd.read_csv('data.csv', parse_dates=True)"
   ]
  },
  {
   "cell_type": "code",
   "execution_count": 3,
   "metadata": {},
   "outputs": [],
   "source": [
    "#Filter Columns\n",
    "df = df[['IM_INCIDENT_KEY', 'INCIDENT_DATE_TIME', 'ARRIVAL_DATE_TIME', 'TOTAL_INCIDENT_DURATION', 'ACTION_TAKEN1_DESC', 'ACTION_TAKEN2_DESC', 'ZIP_CODE', 'BOROUGH_DESC']]"
   ]
  },
  {
   "cell_type": "code",
   "execution_count": 4,
   "metadata": {},
   "outputs": [],
   "source": [
    "#Get All columns name\n",
    "#df.columns"
   ]
  },
  {
   "cell_type": "code",
   "execution_count": 5,
   "metadata": {},
   "outputs": [
    {
     "name": "stdout",
     "output_type": "stream",
     "text": [
      "<class 'pandas.core.frame.DataFrame'>\n",
      "RangeIndex: 119324 entries, 0 to 119323\n",
      "Data columns (total 8 columns):\n",
      "IM_INCIDENT_KEY            119324 non-null int64\n",
      "INCIDENT_DATE_TIME         119324 non-null object\n",
      "ARRIVAL_DATE_TIME          118636 non-null object\n",
      "TOTAL_INCIDENT_DURATION    119324 non-null int64\n",
      "ACTION_TAKEN1_DESC         119324 non-null object\n",
      "ACTION_TAKEN2_DESC         115132 non-null object\n",
      "ZIP_CODE                   119322 non-null float64\n",
      "BOROUGH_DESC               119324 non-null object\n",
      "dtypes: float64(1), int64(2), object(5)\n",
      "memory usage: 7.3+ MB\n"
     ]
    }
   ],
   "source": [
    "#Check memory Usage (6.1 MB)\n",
    "df.info()"
   ]
  },
  {
   "cell_type": "code",
   "execution_count": 6,
   "metadata": {},
   "outputs": [
    {
     "name": "stdout",
     "output_type": "stream",
     "text": [
      "<class 'pandas.core.frame.DataFrame'>\n",
      "RangeIndex: 119324 entries, 0 to 119323\n",
      "Data columns (total 8 columns):\n",
      "IM_INCIDENT_KEY            119324 non-null int64\n",
      "INCIDENT_DATE_TIME         119324 non-null object\n",
      "ARRIVAL_DATE_TIME          118636 non-null object\n",
      "TOTAL_INCIDENT_DURATION    119324 non-null int64\n",
      "ACTION_TAKEN1_DESC         119324 non-null category\n",
      "ACTION_TAKEN2_DESC         119324 non-null category\n",
      "ZIP_CODE                   119322 non-null float64\n",
      "BOROUGH_DESC               119324 non-null category\n",
      "dtypes: category(3), float64(1), int64(2), object(2)\n",
      "memory usage: 4.9+ MB\n"
     ]
    }
   ],
   "source": [
    "#Reduce memory Usage (4.9 MB)\n",
    "df['ACTION_TAKEN1_DESC'] = df['ACTION_TAKEN1_DESC'].astype('category')\n",
    "df['ACTION_TAKEN2_DESC'] = df['ACTION_TAKEN1_DESC'].astype('category')\n",
    "df['BOROUGH_DESC'] = df['BOROUGH_DESC'].astype('category')\n",
    "\n",
    "\n",
    "df.info()"
   ]
  },
  {
   "cell_type": "code",
   "execution_count": 7,
   "metadata": {},
   "outputs": [
    {
     "data": {
      "text/html": [
       "<div>\n",
       "<style scoped>\n",
       "    .dataframe tbody tr th:only-of-type {\n",
       "        vertical-align: middle;\n",
       "    }\n",
       "\n",
       "    .dataframe tbody tr th {\n",
       "        vertical-align: top;\n",
       "    }\n",
       "\n",
       "    .dataframe thead th {\n",
       "        text-align: right;\n",
       "    }\n",
       "</style>\n",
       "<table border=\"1\" class=\"dataframe\">\n",
       "  <thead>\n",
       "    <tr style=\"text-align: right;\">\n",
       "      <th></th>\n",
       "      <th>IM_INCIDENT_KEY</th>\n",
       "      <th>INCIDENT_DATE_TIME</th>\n",
       "      <th>ARRIVAL_DATE_TIME</th>\n",
       "      <th>TOTAL_INCIDENT_DURATION</th>\n",
       "      <th>ACTION_TAKEN1_DESC</th>\n",
       "      <th>ACTION_TAKEN2_DESC</th>\n",
       "      <th>ZIP_CODE</th>\n",
       "      <th>BOROUGH_DESC</th>\n",
       "    </tr>\n",
       "  </thead>\n",
       "  <tbody>\n",
       "    <tr>\n",
       "      <th>1</th>\n",
       "      <td>63476693</td>\n",
       "      <td>06/30/2018 11:35:27 PM</td>\n",
       "      <td>06/30/2018 11:40:19 PM</td>\n",
       "      <td>918</td>\n",
       "      <td>216 - Checked exposures</td>\n",
       "      <td>216 - Checked exposures</td>\n",
       "      <td>10462.0</td>\n",
       "      <td>2 - Bronx</td>\n",
       "    </tr>\n",
       "    <tr>\n",
       "      <th>2</th>\n",
       "      <td>63476614</td>\n",
       "      <td>06/30/2018 11:22:51 PM</td>\n",
       "      <td>06/30/2018 11:27:18 PM</td>\n",
       "      <td>995</td>\n",
       "      <td>86 - Investigate</td>\n",
       "      <td>86 - Investigate</td>\n",
       "      <td>10472.0</td>\n",
       "      <td>2 - Bronx</td>\n",
       "    </tr>\n",
       "    <tr>\n",
       "      <th>3</th>\n",
       "      <td>63476562</td>\n",
       "      <td>06/30/2018 11:05:55 PM</td>\n",
       "      <td>06/30/2018 11:11:39 PM</td>\n",
       "      <td>671</td>\n",
       "      <td>44 - Hazardous materials leak control &amp; contai...</td>\n",
       "      <td>44 - Hazardous materials leak control &amp; contai...</td>\n",
       "      <td>10452.0</td>\n",
       "      <td>2 - Bronx</td>\n",
       "    </tr>\n",
       "  </tbody>\n",
       "</table>\n",
       "</div>"
      ],
      "text/plain": [
       "   IM_INCIDENT_KEY      INCIDENT_DATE_TIME       ARRIVAL_DATE_TIME  \\\n",
       "1         63476693  06/30/2018 11:35:27 PM  06/30/2018 11:40:19 PM   \n",
       "2         63476614  06/30/2018 11:22:51 PM  06/30/2018 11:27:18 PM   \n",
       "3         63476562  06/30/2018 11:05:55 PM  06/30/2018 11:11:39 PM   \n",
       "\n",
       "   TOTAL_INCIDENT_DURATION                                 ACTION_TAKEN1_DESC  \\\n",
       "1                      918                            216 - Checked exposures   \n",
       "2                      995                                   86 - Investigate   \n",
       "3                      671  44 - Hazardous materials leak control & contai...   \n",
       "\n",
       "                                  ACTION_TAKEN2_DESC  ZIP_CODE BOROUGH_DESC  \n",
       "1                            216 - Checked exposures   10462.0    2 - Bronx  \n",
       "2                                   86 - Investigate   10472.0    2 - Bronx  \n",
       "3  44 - Hazardous materials leak control & contai...   10452.0    2 - Bronx  "
      ]
     },
     "execution_count": 7,
     "metadata": {},
     "output_type": "execute_result"
    }
   ],
   "source": [
    "# Drop NA Valus\n",
    "df = df.dropna()\n",
    "df.head(3)"
   ]
  },
  {
   "cell_type": "code",
   "execution_count": 8,
   "metadata": {},
   "outputs": [
    {
     "data": {
      "text/plain": [
       "IM_INCIDENT_KEY               int64\n",
       "INCIDENT_DATE_TIME           object\n",
       "ARRIVAL_DATE_TIME            object\n",
       "TOTAL_INCIDENT_DURATION       int64\n",
       "ACTION_TAKEN1_DESC         category\n",
       "ACTION_TAKEN2_DESC         category\n",
       "ZIP_CODE                    float64\n",
       "BOROUGH_DESC               category\n",
       "dtype: object"
      ]
     },
     "execution_count": 8,
     "metadata": {},
     "output_type": "execute_result"
    }
   ],
   "source": [
    "# Get Columns Types\n",
    "df.dtypes"
   ]
  },
  {
   "cell_type": "code",
   "execution_count": null,
   "metadata": {},
   "outputs": [],
   "source": []
  },
  {
   "cell_type": "code",
   "execution_count": 9,
   "metadata": {},
   "outputs": [],
   "source": [
    "# Split Date/Time and export to a separate dataframe\n",
    "INCIDENT_DATE_TIME = df[\"INCIDENT_DATE_TIME\"].str.split(\" \", n = 1, expand = True) \n",
    "ARRIVAL_DATE_TIME = df[\"ARRIVAL_DATE_TIME\"].str.split(\" \", n = 1, expand = True) "
   ]
  },
  {
   "cell_type": "code",
   "execution_count": 10,
   "metadata": {},
   "outputs": [],
   "source": [
    "#Delete column in the original DF with the date and time combined (we will merge the new df)\n",
    "del df['INCIDENT_DATE_TIME']\n",
    "del df['ARRIVAL_DATE_TIME']"
   ]
  },
  {
   "cell_type": "code",
   "execution_count": 11,
   "metadata": {},
   "outputs": [],
   "source": [
    "#Reset Indexes (they now start at two)\n",
    "\n",
    "#First DF\n",
    "df.reset_index(inplace=True, drop=True)\n",
    "\n",
    "#Second DF\n",
    "INCIDENT_DATE_TIME.reset_index(inplace=True, drop=True)\n",
    "\n",
    "#Third DF\n",
    "ARRIVAL_DATE_TIME.reset_index(inplace=True, drop=True)"
   ]
  },
  {
   "cell_type": "code",
   "execution_count": 12,
   "metadata": {},
   "outputs": [],
   "source": [
    "#Rename new DF columns names\n",
    "\n",
    "#Incident Date/time\n",
    "INCIDENT_DATE_TIME.rename(columns={0: 'Incident Date', 1: 'Incident Time'}, inplace=True)\n",
    "\n",
    "#Arrival Date/Time\n",
    "ARRIVAL_DATE_TIME.rename(columns={0: 'Arrival Date', 1: 'Arrival Time'}, inplace=True)"
   ]
  },
  {
   "cell_type": "code",
   "execution_count": 13,
   "metadata": {},
   "outputs": [],
   "source": [
    "# Join the two DFs\n",
    "df = df.join(INCIDENT_DATE_TIME, how='outer')\n",
    "df = df.join(ARRIVAL_DATE_TIME, how='outer')"
   ]
  },
  {
   "cell_type": "code",
   "execution_count": 14,
   "metadata": {},
   "outputs": [
    {
     "data": {
      "text/html": [
       "<div>\n",
       "<style scoped>\n",
       "    .dataframe tbody tr th:only-of-type {\n",
       "        vertical-align: middle;\n",
       "    }\n",
       "\n",
       "    .dataframe tbody tr th {\n",
       "        vertical-align: top;\n",
       "    }\n",
       "\n",
       "    .dataframe thead th {\n",
       "        text-align: right;\n",
       "    }\n",
       "</style>\n",
       "<table border=\"1\" class=\"dataframe\">\n",
       "  <thead>\n",
       "    <tr style=\"text-align: right;\">\n",
       "      <th></th>\n",
       "      <th>IM_INCIDENT_KEY</th>\n",
       "      <th>TOTAL_INCIDENT_DURATION</th>\n",
       "      <th>ACTION_TAKEN1_DESC</th>\n",
       "      <th>ACTION_TAKEN2_DESC</th>\n",
       "      <th>ZIP_CODE</th>\n",
       "      <th>BOROUGH_DESC</th>\n",
       "      <th>Incident Date</th>\n",
       "      <th>Incident Time</th>\n",
       "      <th>Arrival Date</th>\n",
       "      <th>Arrival Time</th>\n",
       "    </tr>\n",
       "  </thead>\n",
       "  <tbody>\n",
       "    <tr>\n",
       "      <th>0</th>\n",
       "      <td>63476693</td>\n",
       "      <td>918</td>\n",
       "      <td>216 - Checked exposures</td>\n",
       "      <td>216 - Checked exposures</td>\n",
       "      <td>10462.0</td>\n",
       "      <td>2 - Bronx</td>\n",
       "      <td>06/30/2018</td>\n",
       "      <td>11:35:27 PM</td>\n",
       "      <td>06/30/2018</td>\n",
       "      <td>11:40:19 PM</td>\n",
       "    </tr>\n",
       "    <tr>\n",
       "      <th>1</th>\n",
       "      <td>63476614</td>\n",
       "      <td>995</td>\n",
       "      <td>86 - Investigate</td>\n",
       "      <td>86 - Investigate</td>\n",
       "      <td>10472.0</td>\n",
       "      <td>2 - Bronx</td>\n",
       "      <td>06/30/2018</td>\n",
       "      <td>11:22:51 PM</td>\n",
       "      <td>06/30/2018</td>\n",
       "      <td>11:27:18 PM</td>\n",
       "    </tr>\n",
       "    <tr>\n",
       "      <th>2</th>\n",
       "      <td>63476562</td>\n",
       "      <td>671</td>\n",
       "      <td>44 - Hazardous materials leak control &amp; contai...</td>\n",
       "      <td>44 - Hazardous materials leak control &amp; contai...</td>\n",
       "      <td>10452.0</td>\n",
       "      <td>2 - Bronx</td>\n",
       "      <td>06/30/2018</td>\n",
       "      <td>11:05:55 PM</td>\n",
       "      <td>06/30/2018</td>\n",
       "      <td>11:11:39 PM</td>\n",
       "    </tr>\n",
       "  </tbody>\n",
       "</table>\n",
       "</div>"
      ],
      "text/plain": [
       "   IM_INCIDENT_KEY  TOTAL_INCIDENT_DURATION  \\\n",
       "0         63476693                      918   \n",
       "1         63476614                      995   \n",
       "2         63476562                      671   \n",
       "\n",
       "                                  ACTION_TAKEN1_DESC  \\\n",
       "0                            216 - Checked exposures   \n",
       "1                                   86 - Investigate   \n",
       "2  44 - Hazardous materials leak control & contai...   \n",
       "\n",
       "                                  ACTION_TAKEN2_DESC  ZIP_CODE BOROUGH_DESC  \\\n",
       "0                            216 - Checked exposures   10462.0    2 - Bronx   \n",
       "1                                   86 - Investigate   10472.0    2 - Bronx   \n",
       "2  44 - Hazardous materials leak control & contai...   10452.0    2 - Bronx   \n",
       "\n",
       "  Incident Date Incident Time Arrival Date Arrival Time  \n",
       "0    06/30/2018   11:35:27 PM   06/30/2018  11:40:19 PM  \n",
       "1    06/30/2018   11:22:51 PM   06/30/2018  11:27:18 PM  \n",
       "2    06/30/2018   11:05:55 PM   06/30/2018  11:11:39 PM  "
      ]
     },
     "execution_count": 14,
     "metadata": {},
     "output_type": "execute_result"
    }
   ],
   "source": [
    "df.head(3)"
   ]
  },
  {
   "cell_type": "code",
   "execution_count": null,
   "metadata": {},
   "outputs": [],
   "source": []
  },
  {
   "cell_type": "code",
   "execution_count": 15,
   "metadata": {},
   "outputs": [
    {
     "data": {
      "text/html": [
       "<div>\n",
       "<style scoped>\n",
       "    .dataframe tbody tr th:only-of-type {\n",
       "        vertical-align: middle;\n",
       "    }\n",
       "\n",
       "    .dataframe tbody tr th {\n",
       "        vertical-align: top;\n",
       "    }\n",
       "\n",
       "    .dataframe thead th {\n",
       "        text-align: right;\n",
       "    }\n",
       "</style>\n",
       "<table border=\"1\" class=\"dataframe\">\n",
       "  <thead>\n",
       "    <tr style=\"text-align: right;\">\n",
       "      <th></th>\n",
       "      <th>STATION</th>\n",
       "      <th>DATE</th>\n",
       "      <th>TMAX</th>\n",
       "      <th>TMIN</th>\n",
       "    </tr>\n",
       "  </thead>\n",
       "  <tbody>\n",
       "    <tr>\n",
       "      <th>0</th>\n",
       "      <td>USW00094728</td>\n",
       "      <td>1/1/13</td>\n",
       "      <td>40</td>\n",
       "      <td>26</td>\n",
       "    </tr>\n",
       "    <tr>\n",
       "      <th>1</th>\n",
       "      <td>USW00094728</td>\n",
       "      <td>1/2/13</td>\n",
       "      <td>33</td>\n",
       "      <td>22</td>\n",
       "    </tr>\n",
       "    <tr>\n",
       "      <th>2</th>\n",
       "      <td>USW00094728</td>\n",
       "      <td>1/3/13</td>\n",
       "      <td>32</td>\n",
       "      <td>24</td>\n",
       "    </tr>\n",
       "  </tbody>\n",
       "</table>\n",
       "</div>"
      ],
      "text/plain": [
       "       STATION    DATE  TMAX  TMIN\n",
       "0  USW00094728  1/1/13    40    26\n",
       "1  USW00094728  1/2/13    33    22\n",
       "2  USW00094728  1/3/13    32    24"
      ]
     },
     "execution_count": 15,
     "metadata": {},
     "output_type": "execute_result"
    }
   ],
   "source": [
    "#Import weather data frame and parse dates\n",
    "df_weather = pd.read_csv(\"nycweatherdata.csv\", parse_dates=True)\n",
    "df_weather.head(3)\n"
   ]
  },
  {
   "cell_type": "code",
   "execution_count": 16,
   "metadata": {},
   "outputs": [
    {
     "data": {
      "text/html": [
       "<div>\n",
       "<style scoped>\n",
       "    .dataframe tbody tr th:only-of-type {\n",
       "        vertical-align: middle;\n",
       "    }\n",
       "\n",
       "    .dataframe tbody tr th {\n",
       "        vertical-align: top;\n",
       "    }\n",
       "\n",
       "    .dataframe thead th {\n",
       "        text-align: right;\n",
       "    }\n",
       "</style>\n",
       "<table border=\"1\" class=\"dataframe\">\n",
       "  <thead>\n",
       "    <tr style=\"text-align: right;\">\n",
       "      <th></th>\n",
       "      <th>STATION</th>\n",
       "      <th>Incident Date</th>\n",
       "      <th>TMAX</th>\n",
       "      <th>TMIN</th>\n",
       "    </tr>\n",
       "  </thead>\n",
       "  <tbody>\n",
       "    <tr>\n",
       "      <th>0</th>\n",
       "      <td>USW00094728</td>\n",
       "      <td>1/1/13</td>\n",
       "      <td>40</td>\n",
       "      <td>26</td>\n",
       "    </tr>\n",
       "    <tr>\n",
       "      <th>1</th>\n",
       "      <td>USW00094728</td>\n",
       "      <td>1/2/13</td>\n",
       "      <td>33</td>\n",
       "      <td>22</td>\n",
       "    </tr>\n",
       "    <tr>\n",
       "      <th>2</th>\n",
       "      <td>USW00094728</td>\n",
       "      <td>1/3/13</td>\n",
       "      <td>32</td>\n",
       "      <td>24</td>\n",
       "    </tr>\n",
       "  </tbody>\n",
       "</table>\n",
       "</div>"
      ],
      "text/plain": [
       "       STATION Incident Date  TMAX  TMIN\n",
       "0  USW00094728        1/1/13    40    26\n",
       "1  USW00094728        1/2/13    33    22\n",
       "2  USW00094728        1/3/13    32    24"
      ]
     },
     "execution_count": 16,
     "metadata": {},
     "output_type": "execute_result"
    }
   ],
   "source": [
    "# Rename column name/ we need to match the two columns name in the weather and our original df to join on\n",
    "df_weather.rename(columns={'DATE': 'Incident Date'}, inplace=True)\n",
    "df_weather.head(3)"
   ]
  },
  {
   "cell_type": "code",
   "execution_count": 17,
   "metadata": {},
   "outputs": [],
   "source": [
    "# Convert the dates columns to date_time object to join on\n",
    "df['Incident Date'] = pd.to_datetime(df['Incident Date'])\n",
    "df_weather['Incident Date'] = pd.to_datetime(df_weather['Incident Date'])"
   ]
  },
  {
   "cell_type": "code",
   "execution_count": null,
   "metadata": {},
   "outputs": [],
   "source": []
  },
  {
   "cell_type": "code",
   "execution_count": 18,
   "metadata": {},
   "outputs": [],
   "source": [
    "# Join weather and our DF\n",
    "final_df = df_weather.merge(df, on='Incident Date')"
   ]
  },
  {
   "cell_type": "code",
   "execution_count": 19,
   "metadata": {},
   "outputs": [],
   "source": [
    "# Delete Station column (we don't need it)\n",
    "del final_df['STATION']\n",
    "del final_df['ACTION_TAKEN2_DESC']"
   ]
  },
  {
   "cell_type": "code",
   "execution_count": 20,
   "metadata": {},
   "outputs": [
    {
     "data": {
      "text/html": [
       "<div>\n",
       "<style scoped>\n",
       "    .dataframe tbody tr th:only-of-type {\n",
       "        vertical-align: middle;\n",
       "    }\n",
       "\n",
       "    .dataframe tbody tr th {\n",
       "        vertical-align: top;\n",
       "    }\n",
       "\n",
       "    .dataframe thead th {\n",
       "        text-align: right;\n",
       "    }\n",
       "</style>\n",
       "<table border=\"1\" class=\"dataframe\">\n",
       "  <thead>\n",
       "    <tr style=\"text-align: right;\">\n",
       "      <th></th>\n",
       "      <th>Incident Date</th>\n",
       "      <th>TMAX</th>\n",
       "      <th>TMIN</th>\n",
       "      <th>IM_INCIDENT_KEY</th>\n",
       "      <th>TOTAL_INCIDENT_DURATION</th>\n",
       "      <th>ACTION_TAKEN1_DESC</th>\n",
       "      <th>ZIP_CODE</th>\n",
       "      <th>BOROUGH_DESC</th>\n",
       "      <th>Incident Time</th>\n",
       "      <th>Arrival Date</th>\n",
       "      <th>Arrival Time</th>\n",
       "    </tr>\n",
       "  </thead>\n",
       "  <tbody>\n",
       "    <tr>\n",
       "      <th>0</th>\n",
       "      <td>2013-01-01</td>\n",
       "      <td>40</td>\n",
       "      <td>26</td>\n",
       "      <td>55675645</td>\n",
       "      <td>1108</td>\n",
       "      <td>44 - Hazardous materials leak control &amp; contai...</td>\n",
       "      <td>10455.0</td>\n",
       "      <td>2 - Bronx</td>\n",
       "      <td>11:30:10 PM</td>\n",
       "      <td>01/01/2013</td>\n",
       "      <td>11:34:39 PM</td>\n",
       "    </tr>\n",
       "    <tr>\n",
       "      <th>1</th>\n",
       "      <td>2013-01-01</td>\n",
       "      <td>40</td>\n",
       "      <td>26</td>\n",
       "      <td>55675621</td>\n",
       "      <td>461</td>\n",
       "      <td>44 - Hazardous materials leak control &amp; contai...</td>\n",
       "      <td>10027.0</td>\n",
       "      <td>1 - Manhattan</td>\n",
       "      <td>11:14:24 PM</td>\n",
       "      <td>01/01/2013</td>\n",
       "      <td>11:19:08 PM</td>\n",
       "    </tr>\n",
       "    <tr>\n",
       "      <th>2</th>\n",
       "      <td>2013-01-01</td>\n",
       "      <td>40</td>\n",
       "      <td>26</td>\n",
       "      <td>55675611</td>\n",
       "      <td>829</td>\n",
       "      <td>44 - Hazardous materials leak control &amp; contai...</td>\n",
       "      <td>11207.0</td>\n",
       "      <td>4 - Brooklyn</td>\n",
       "      <td>11:08:08 PM</td>\n",
       "      <td>01/01/2013</td>\n",
       "      <td>11:10:30 PM</td>\n",
       "    </tr>\n",
       "  </tbody>\n",
       "</table>\n",
       "</div>"
      ],
      "text/plain": [
       "  Incident Date  TMAX  TMIN  IM_INCIDENT_KEY  TOTAL_INCIDENT_DURATION  \\\n",
       "0    2013-01-01    40    26         55675645                     1108   \n",
       "1    2013-01-01    40    26         55675621                      461   \n",
       "2    2013-01-01    40    26         55675611                      829   \n",
       "\n",
       "                                  ACTION_TAKEN1_DESC  ZIP_CODE   BOROUGH_DESC  \\\n",
       "0  44 - Hazardous materials leak control & contai...   10455.0      2 - Bronx   \n",
       "1  44 - Hazardous materials leak control & contai...   10027.0  1 - Manhattan   \n",
       "2  44 - Hazardous materials leak control & contai...   11207.0   4 - Brooklyn   \n",
       "\n",
       "  Incident Time Arrival Date Arrival Time  \n",
       "0   11:30:10 PM   01/01/2013  11:34:39 PM  \n",
       "1   11:14:24 PM   01/01/2013  11:19:08 PM  \n",
       "2   11:08:08 PM   01/01/2013  11:10:30 PM  "
      ]
     },
     "execution_count": 20,
     "metadata": {},
     "output_type": "execute_result"
    }
   ],
   "source": [
    "# verify join worked fine\n",
    "final_df.head(3)"
   ]
  },
  {
   "cell_type": "code",
   "execution_count": 21,
   "metadata": {},
   "outputs": [],
   "source": [
    "# Get rid of the .0 that is in the zip code column\n",
    "final_df['ZIP_CODE'] = final_df['ZIP_CODE'].astype(int)"
   ]
  },
  {
   "cell_type": "code",
   "execution_count": 22,
   "metadata": {},
   "outputs": [
    {
     "data": {
      "text/html": [
       "<div>\n",
       "<style scoped>\n",
       "    .dataframe tbody tr th:only-of-type {\n",
       "        vertical-align: middle;\n",
       "    }\n",
       "\n",
       "    .dataframe tbody tr th {\n",
       "        vertical-align: top;\n",
       "    }\n",
       "\n",
       "    .dataframe thead th {\n",
       "        text-align: right;\n",
       "    }\n",
       "</style>\n",
       "<table border=\"1\" class=\"dataframe\">\n",
       "  <thead>\n",
       "    <tr style=\"text-align: right;\">\n",
       "      <th></th>\n",
       "      <th>Incident Date</th>\n",
       "      <th>TMAX</th>\n",
       "      <th>TMIN</th>\n",
       "      <th>IM_INCIDENT_KEY</th>\n",
       "      <th>TOTAL_INCIDENT_DURATION</th>\n",
       "      <th>ACTION_TAKEN1_DESC</th>\n",
       "      <th>ZIP_CODE</th>\n",
       "      <th>BOROUGH_DESC</th>\n",
       "      <th>Incident Time</th>\n",
       "      <th>Arrival Date</th>\n",
       "      <th>Arrival Time</th>\n",
       "    </tr>\n",
       "  </thead>\n",
       "  <tbody>\n",
       "    <tr>\n",
       "      <th>0</th>\n",
       "      <td>2013-01-01</td>\n",
       "      <td>40</td>\n",
       "      <td>26</td>\n",
       "      <td>55675645</td>\n",
       "      <td>1108</td>\n",
       "      <td>44 - Hazardous materials leak control &amp; contai...</td>\n",
       "      <td>10455</td>\n",
       "      <td>2 - Bronx</td>\n",
       "      <td>11:30:10 PM</td>\n",
       "      <td>01/01/2013</td>\n",
       "      <td>11:34:39 PM</td>\n",
       "    </tr>\n",
       "    <tr>\n",
       "      <th>1</th>\n",
       "      <td>2013-01-01</td>\n",
       "      <td>40</td>\n",
       "      <td>26</td>\n",
       "      <td>55675621</td>\n",
       "      <td>461</td>\n",
       "      <td>44 - Hazardous materials leak control &amp; contai...</td>\n",
       "      <td>10027</td>\n",
       "      <td>1 - Manhattan</td>\n",
       "      <td>11:14:24 PM</td>\n",
       "      <td>01/01/2013</td>\n",
       "      <td>11:19:08 PM</td>\n",
       "    </tr>\n",
       "    <tr>\n",
       "      <th>2</th>\n",
       "      <td>2013-01-01</td>\n",
       "      <td>40</td>\n",
       "      <td>26</td>\n",
       "      <td>55675611</td>\n",
       "      <td>829</td>\n",
       "      <td>44 - Hazardous materials leak control &amp; contai...</td>\n",
       "      <td>11207</td>\n",
       "      <td>4 - Brooklyn</td>\n",
       "      <td>11:08:08 PM</td>\n",
       "      <td>01/01/2013</td>\n",
       "      <td>11:10:30 PM</td>\n",
       "    </tr>\n",
       "  </tbody>\n",
       "</table>\n",
       "</div>"
      ],
      "text/plain": [
       "  Incident Date  TMAX  TMIN  IM_INCIDENT_KEY  TOTAL_INCIDENT_DURATION  \\\n",
       "0    2013-01-01    40    26         55675645                     1108   \n",
       "1    2013-01-01    40    26         55675621                      461   \n",
       "2    2013-01-01    40    26         55675611                      829   \n",
       "\n",
       "                                  ACTION_TAKEN1_DESC  ZIP_CODE   BOROUGH_DESC  \\\n",
       "0  44 - Hazardous materials leak control & contai...     10455      2 - Bronx   \n",
       "1  44 - Hazardous materials leak control & contai...     10027  1 - Manhattan   \n",
       "2  44 - Hazardous materials leak control & contai...     11207   4 - Brooklyn   \n",
       "\n",
       "  Incident Time Arrival Date Arrival Time  \n",
       "0   11:30:10 PM   01/01/2013  11:34:39 PM  \n",
       "1   11:14:24 PM   01/01/2013  11:19:08 PM  \n",
       "2   11:08:08 PM   01/01/2013  11:10:30 PM  "
      ]
     },
     "execution_count": 22,
     "metadata": {},
     "output_type": "execute_result"
    }
   ],
   "source": [
    "# Check zipcode formatting\n",
    "final_df.head(3)"
   ]
  },
  {
   "cell_type": "code",
   "execution_count": null,
   "metadata": {},
   "outputs": [],
   "source": []
  },
  {
   "cell_type": "code",
   "execution_count": 23,
   "metadata": {},
   "outputs": [],
   "source": [
    "#Remove numbers that are nex to the Bourough (Maps need only the name with no nums)\n",
    "final_df['BOROUGH_DESC'] = final_df['BOROUGH_DESC'].map(lambda x: str(x)[4:])"
   ]
  },
  {
   "cell_type": "code",
   "execution_count": 24,
   "metadata": {},
   "outputs": [
    {
     "data": {
      "text/html": [
       "<div>\n",
       "<style scoped>\n",
       "    .dataframe tbody tr th:only-of-type {\n",
       "        vertical-align: middle;\n",
       "    }\n",
       "\n",
       "    .dataframe tbody tr th {\n",
       "        vertical-align: top;\n",
       "    }\n",
       "\n",
       "    .dataframe thead th {\n",
       "        text-align: right;\n",
       "    }\n",
       "</style>\n",
       "<table border=\"1\" class=\"dataframe\">\n",
       "  <thead>\n",
       "    <tr style=\"text-align: right;\">\n",
       "      <th></th>\n",
       "      <th>Incident Date</th>\n",
       "      <th>TMAX</th>\n",
       "      <th>TMIN</th>\n",
       "      <th>IM_INCIDENT_KEY</th>\n",
       "      <th>TOTAL_INCIDENT_DURATION</th>\n",
       "      <th>ACTION_TAKEN1_DESC</th>\n",
       "      <th>ZIP_CODE</th>\n",
       "      <th>BOROUGH_DESC</th>\n",
       "      <th>Incident Time</th>\n",
       "      <th>Arrival Date</th>\n",
       "      <th>Arrival Time</th>\n",
       "    </tr>\n",
       "  </thead>\n",
       "  <tbody>\n",
       "    <tr>\n",
       "      <th>118629</th>\n",
       "      <td>2018-06-30</td>\n",
       "      <td>93</td>\n",
       "      <td>72</td>\n",
       "      <td>63471745</td>\n",
       "      <td>1774</td>\n",
       "      <td>44 - Hazardous materials leak control &amp; contai...</td>\n",
       "      <td>11104</td>\n",
       "      <td>Queens</td>\n",
       "      <td>03:26:14 AM</td>\n",
       "      <td>06/30/2018</td>\n",
       "      <td>03:30:41 AM</td>\n",
       "    </tr>\n",
       "    <tr>\n",
       "      <th>118630</th>\n",
       "      <td>2018-06-30</td>\n",
       "      <td>93</td>\n",
       "      <td>72</td>\n",
       "      <td>63471590</td>\n",
       "      <td>911</td>\n",
       "      <td>44 - Hazardous materials leak control &amp; contai...</td>\n",
       "      <td>10467</td>\n",
       "      <td>Bronx</td>\n",
       "      <td>02:31:35 AM</td>\n",
       "      <td>06/30/2018</td>\n",
       "      <td>02:37:13 AM</td>\n",
       "    </tr>\n",
       "    <tr>\n",
       "      <th>118631</th>\n",
       "      <td>2018-06-30</td>\n",
       "      <td>93</td>\n",
       "      <td>72</td>\n",
       "      <td>63471532</td>\n",
       "      <td>1552</td>\n",
       "      <td>44 - Hazardous materials leak control &amp; contai...</td>\n",
       "      <td>10009</td>\n",
       "      <td>Manhattan</td>\n",
       "      <td>01:59:31 AM</td>\n",
       "      <td>06/30/2018</td>\n",
       "      <td>02:04:27 AM</td>\n",
       "    </tr>\n",
       "    <tr>\n",
       "      <th>118632</th>\n",
       "      <td>2018-06-30</td>\n",
       "      <td>93</td>\n",
       "      <td>72</td>\n",
       "      <td>63471515</td>\n",
       "      <td>1794</td>\n",
       "      <td>44 - Hazardous materials leak control &amp; contai...</td>\n",
       "      <td>10011</td>\n",
       "      <td>Manhattan</td>\n",
       "      <td>01:51:36 AM</td>\n",
       "      <td>06/30/2018</td>\n",
       "      <td>01:57:10 AM</td>\n",
       "    </tr>\n",
       "    <tr>\n",
       "      <th>118633</th>\n",
       "      <td>2018-06-30</td>\n",
       "      <td>93</td>\n",
       "      <td>72</td>\n",
       "      <td>63471300</td>\n",
       "      <td>868</td>\n",
       "      <td>44 - Hazardous materials leak control &amp; contai...</td>\n",
       "      <td>10035</td>\n",
       "      <td>Manhattan</td>\n",
       "      <td>01:04:51 AM</td>\n",
       "      <td>06/30/2018</td>\n",
       "      <td>01:09:36 AM</td>\n",
       "    </tr>\n",
       "  </tbody>\n",
       "</table>\n",
       "</div>"
      ],
      "text/plain": [
       "       Incident Date  TMAX  TMIN  IM_INCIDENT_KEY  TOTAL_INCIDENT_DURATION  \\\n",
       "118629    2018-06-30    93    72         63471745                     1774   \n",
       "118630    2018-06-30    93    72         63471590                      911   \n",
       "118631    2018-06-30    93    72         63471532                     1552   \n",
       "118632    2018-06-30    93    72         63471515                     1794   \n",
       "118633    2018-06-30    93    72         63471300                      868   \n",
       "\n",
       "                                       ACTION_TAKEN1_DESC  ZIP_CODE  \\\n",
       "118629  44 - Hazardous materials leak control & contai...     11104   \n",
       "118630  44 - Hazardous materials leak control & contai...     10467   \n",
       "118631  44 - Hazardous materials leak control & contai...     10009   \n",
       "118632  44 - Hazardous materials leak control & contai...     10011   \n",
       "118633  44 - Hazardous materials leak control & contai...     10035   \n",
       "\n",
       "       BOROUGH_DESC Incident Time Arrival Date Arrival Time  \n",
       "118629       Queens   03:26:14 AM   06/30/2018  03:30:41 AM  \n",
       "118630        Bronx   02:31:35 AM   06/30/2018  02:37:13 AM  \n",
       "118631    Manhattan   01:59:31 AM   06/30/2018  02:04:27 AM  \n",
       "118632    Manhattan   01:51:36 AM   06/30/2018  01:57:10 AM  \n",
       "118633    Manhattan   01:04:51 AM   06/30/2018  01:09:36 AM  "
      ]
     },
     "execution_count": 24,
     "metadata": {},
     "output_type": "execute_result"
    }
   ],
   "source": [
    "final_df.tail()"
   ]
  },
  {
   "cell_type": "code",
   "execution_count": null,
   "metadata": {},
   "outputs": [],
   "source": []
  },
  {
   "cell_type": "code",
   "execution_count": null,
   "metadata": {},
   "outputs": [],
   "source": []
  }
 ],
 "metadata": {
  "kernelspec": {
   "display_name": "Python 3",
   "language": "python",
   "name": "python3"
  },
  "language_info": {
   "codemirror_mode": {
    "name": "ipython",
    "version": 3
   },
   "file_extension": ".py",
   "mimetype": "text/x-python",
   "name": "python",
   "nbconvert_exporter": "python",
   "pygments_lexer": "ipython3",
   "version": "3.7.3"
  }
 },
 "nbformat": 4,
 "nbformat_minor": 2
}
